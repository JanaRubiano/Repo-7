{
 "cells": [
  {
   "cell_type": "code",
   "execution_count": 4,
   "metadata": {},
   "outputs": [
    {
     "name": "stdout",
     "output_type": "stream",
     "text": [
      "1\n",
      "2\n",
      "3\n",
      "4\n",
      "6\n",
      "9\n",
      "12\n",
      "18\n",
      "36\n"
     ]
    }
   ],
   "source": [
    "n:int\n",
    "n = int(input(\"Enter a number between 2 and 50: \")) # The user is asked to enter an integer\n",
    "x = 1 # x is set to 1 as a counter\n",
    "while x <= n//2: # The loop takes place until the half of n\n",
    "    if n%x == 0: # If the module of n divided into x is zero, x is a divisor of n and it's printed\n",
    "        print(x) \n",
    "        x += 1 # After printing x, 1 is added to x\n",
    "    else: \n",
    "        x += 1 # If the condition is not met, 1 is also added to x\n",
    "print(n) # n is printed at the end becuase a number is divisor of itself"
   ]
  }
 ],
 "metadata": {
  "kernelspec": {
   "display_name": "Python 3",
   "language": "python",
   "name": "python3"
  },
  "language_info": {
   "codemirror_mode": {
    "name": "ipython",
    "version": 3
   },
   "file_extension": ".py",
   "mimetype": "text/x-python",
   "name": "python",
   "nbconvert_exporter": "python",
   "pygments_lexer": "ipython3",
   "version": "3.10.10"
  },
  "orig_nbformat": 4
 },
 "nbformat": 4,
 "nbformat_minor": 2
}
