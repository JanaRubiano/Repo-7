{
 "cells": [
  {
   "cell_type": "code",
   "execution_count": 2,
   "metadata": {},
   "outputs": [
    {
     "name": "stdout",
     "output_type": "stream",
     "text": [
      "The number is smaller than the answer\n",
      "The number is smaller than the answer\n",
      "The number is smaller than the answer\n",
      "The number is smaller than the answer\n",
      "The number is greater than the answer\n",
      "The number is smaller than the answer\n",
      "number found: 7\n"
     ]
    }
   ],
   "source": [
    "import random # Module random is imported to generate the number that is going to be guessed\n",
    "number:int\n",
    "answer = random.randint(1, 100) # A random number between 1 and 100 is asigned to the variable answer\n",
    "number = int(input(\"Enter a number: \")) # The user is asked to enter an integer\n",
    "while number != answer: # While number dosn't equal answer the following block of code is ran\n",
    "    if number > answer: # If the entered number is greater than the answer the code asks to enter smaller values\n",
    "        print(\"The number is smaller than the answer\")\n",
    "        number = int(input(\"Enter a number: \"))\n",
    "\n",
    "    else: # If the entered number is smaller than the answer the code asks to enter larger values\n",
    "        print(\"The number is greater than the answer\")\n",
    "        number = int(input(\"Enter a number: \"))\n",
    "\n",
    "print(f\"number found: {answer}\") # When the while condition isn't met, the loop ends and prints\n",
    "\n"
   ]
  }
 ],
 "metadata": {
  "kernelspec": {
   "display_name": "Python 3",
   "language": "python",
   "name": "python3"
  },
  "language_info": {
   "codemirror_mode": {
    "name": "ipython",
    "version": 3
   },
   "file_extension": ".py",
   "mimetype": "text/x-python",
   "name": "python",
   "nbconvert_exporter": "python",
   "pygments_lexer": "ipython3",
   "version": "3.10.10"
  },
  "orig_nbformat": 4
 },
 "nbformat": 4,
 "nbformat_minor": 2
}
