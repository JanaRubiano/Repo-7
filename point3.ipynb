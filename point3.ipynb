{
 "cells": [
  {
   "cell_type": "code",
   "execution_count": 3,
   "metadata": {},
   "outputs": [
    {
     "name": "stdout",
     "output_type": "stream",
     "text": [
      "8\n",
      "6\n",
      "4\n",
      "2\n",
      "End of the loop\n"
     ]
    }
   ],
   "source": [
    "num:int\n",
    "num = int(input(\"Enter a number: \")) # The user is asked to enter an integer\n",
    "while num >= 2: # The code will run until num is not less than 2\n",
    "    if num%2 == 0: # If the condition is met, num is printed and 1 is subtracted from num\n",
    "        print(num) # The number is printed\n",
    "        num -= 1\n",
    "    else: # If not, 1 is subtracted from num\n",
    "        num -= 1\n",
    "\n",
    "print(\"End of the loop\")"
   ]
  }
 ],
 "metadata": {
  "kernelspec": {
   "display_name": "Python 3",
   "language": "python",
   "name": "python3"
  },
  "language_info": {
   "codemirror_mode": {
    "name": "ipython",
    "version": 3
   },
   "file_extension": ".py",
   "mimetype": "text/x-python",
   "name": "python",
   "nbconvert_exporter": "python",
   "pygments_lexer": "ipython3",
   "version": "3.10.10"
  },
  "orig_nbformat": 4
 },
 "nbformat": 4,
 "nbformat_minor": 2
}
