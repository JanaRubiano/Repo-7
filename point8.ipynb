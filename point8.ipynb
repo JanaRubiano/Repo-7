{
 "cells": [
  {
   "cell_type": "code",
   "execution_count": 2,
   "metadata": {},
   "outputs": [
    {
     "name": "stdout",
     "output_type": "stream",
     "text": [
      "1\n",
      "2\n",
      "3\n",
      "5\n",
      "7\n",
      "11\n",
      "13\n",
      "17\n",
      "19\n",
      "23\n",
      "29\n",
      "31\n",
      "37\n",
      "41\n",
      "43\n",
      "47\n",
      "53\n",
      "59\n",
      "61\n",
      "67\n",
      "71\n",
      "73\n",
      "79\n",
      "83\n",
      "89\n",
      "97\n",
      "End of the loop\n"
     ]
    }
   ],
   "source": [
    "def primos(num:int=1): \n",
    "    ''' This functions return the prime values from 1 to 100 '''\n",
    "    while num <= 100: # The loop will run until num is not larger than 100\n",
    "        divs = 0 # Zero is asigned to the variable divs\n",
    "        x = 2 # x is set to 2\n",
    "        while x <= int(num**0.5): # This loop runs until x is not larger than the square root of num\n",
    "            if num % x == 0: # If the module of num divided by x is zero, then 1 is added to divs and to x\n",
    "                divs += 1\n",
    "                x += 1\n",
    "            else: # If the condition is not met, 1 is added to divs and to x\n",
    "                x += 1\n",
    "        if divs == 0: # If the variable divs equals 0, a prime number is found and it's printed\n",
    "            print(num)\n",
    "            num += 1\n",
    "        else:\n",
    "            num += 1 # If the condition isn't met, 1 is added to num\n",
    "\n",
    "    return \"End of the loop\"\n",
    "\n",
    "if __name__ == \"__main__\":\n",
    "    p = primos()\n",
    "    print(p)\n"
   ]
  }
 ],
 "metadata": {
  "kernelspec": {
   "display_name": "Python 3",
   "language": "python",
   "name": "python3"
  },
  "language_info": {
   "codemirror_mode": {
    "name": "ipython",
    "version": 3
   },
   "file_extension": ".py",
   "mimetype": "text/x-python",
   "name": "python",
   "nbconvert_exporter": "python",
   "pygments_lexer": "ipython3",
   "version": "3.10.10"
  },
  "orig_nbformat": 4
 },
 "nbformat": 4,
 "nbformat_minor": 2
}
