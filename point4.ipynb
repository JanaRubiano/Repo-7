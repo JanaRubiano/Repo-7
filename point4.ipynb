{
 "cells": [
  {
   "cell_type": "code",
   "execution_count": 2,
   "metadata": {},
   "outputs": [
    {
     "name": "stdout",
     "output_type": "stream",
     "text": [
      "In year 2051 populltaion in country B is grater than in country A\n"
     ]
    }
   ],
   "source": [
    "A:int = 25000000 # Popullation in country A\n",
    "B:int = 18900000 # Popullation in country B (Note* in the repo it wasn't clear if it was 18 or 18,9 millions)\n",
    "year:int = 2022 # Initial year\n",
    "\n",
    "num_years = 1 # 1 is asigned to the variable num_years\n",
    "year += 1 # 1 is added to year\n",
    "while B < A: # The code will run until populltaion in country B is smaller than in country A\n",
    "    if B*(1 + 0.03)**num_years > A*(1 + 0.02)**num_years: # If having aplyed the equations for exponential growth, the popullation in B is greater than in A,\n",
    "        break # the loop is broken\n",
    "    else: # if not, 1 is added to num_years and year\n",
    "        num_years += 1\n",
    "        year += 1\n",
    "\n",
    "print(f\"In year {str(year)} populltaion in country B is grater than in country A\") # The message is printed when the loop is broken"
   ]
  }
 ],
 "metadata": {
  "kernelspec": {
   "display_name": "Python 3",
   "language": "python",
   "name": "python3"
  },
  "language_info": {
   "codemirror_mode": {
    "name": "ipython",
    "version": 3
   },
   "file_extension": ".py",
   "mimetype": "text/x-python",
   "name": "python",
   "nbconvert_exporter": "python",
   "pygments_lexer": "ipython3",
   "version": "3.10.10"
  },
  "orig_nbformat": 4
 },
 "nbformat": 4,
 "nbformat_minor": 2
}
