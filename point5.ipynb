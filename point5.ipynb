{
 "cells": [
  {
   "cell_type": "code",
   "execution_count": 2,
   "metadata": {},
   "outputs": [
    {
     "name": "stdout",
     "output_type": "stream",
     "text": [
      "The factorial of 3 is 6\n"
     ]
    }
   ],
   "source": [
    "n:int \n",
    "n = int(input(\"Enter an integer: \")) # The user is asked to enter an integer\n",
    "fact = 1 # fact is set to one\n",
    "res = 1 # res is set to one\n",
    "while fact <= n: # The code will run until fact is not larger than n\n",
    "    res *= fact # fact times res is asigned to the variable res\n",
    "    fact += 1 # 1 is added do fact\n",
    "\n",
    "print(f\"The factorial of {str(n)} is {str(res)}\")"
   ]
  },
  {
   "cell_type": "code",
   "execution_count": null,
   "metadata": {},
   "outputs": [],
   "source": []
  }
 ],
 "metadata": {
  "kernelspec": {
   "display_name": "Python 3",
   "language": "python",
   "name": "python3"
  },
  "language_info": {
   "codemirror_mode": {
    "name": "ipython",
    "version": 3
   },
   "file_extension": ".py",
   "mimetype": "text/x-python",
   "name": "python",
   "nbconvert_exporter": "python",
   "pygments_lexer": "ipython3",
   "version": "3.10.10"
  },
  "orig_nbformat": 4
 },
 "nbformat": 4,
 "nbformat_minor": 2
}
